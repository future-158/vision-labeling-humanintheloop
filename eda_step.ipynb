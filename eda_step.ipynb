{
  "nbformat": 4,
  "nbformat_minor": 0,
  "metadata": {
    "colab": {
      "name": "eda_step.ipynb",
      "private_outputs": true,
      "provenance": [],
      "machine_shape": "hm",
      "authorship_tag": "ABX9TyN9037tPUOu27AmXfL8rMZ3",
      "include_colab_link": true
    },
    "kernelspec": {
      "name": "python3",
      "display_name": "Python 3"
    },
    "language_info": {
      "name": "python"
    },
    "accelerator": "GPU"
  },
  "cells": [
    {
      "cell_type": "markdown",
      "metadata": {
        "id": "view-in-github",
        "colab_type": "text"
      },
      "source": [
        "<a href=\"https://colab.research.google.com/github/future-158/vision-labeling-humanintheloop/blob/master/eda_step.ipynb\" target=\"_parent\"><img src=\"https://colab.research.google.com/assets/colab-badge.svg\" alt=\"Open In Colab\"/></a>"
      ]
    },
    {
      "cell_type": "code",
      "source": [
        "# from google.colab import drive\n",
        "# drive.mount('/content/drive', force_remount=True)"
      ],
      "metadata": {
        "id": "HxKaNplT6MCw"
      },
      "execution_count": null,
      "outputs": []
    },
    {
      "cell_type": "code",
      "execution_count": null,
      "metadata": {
        "id": "VT02SaQE6FZl"
      },
      "outputs": [],
      "source": [
        "import pandas as pd\n",
        "import numpy as np\n",
        "import matplotlib.pyplot as plt\n",
        "import tqdm\n",
        "from pathlib import Path\n",
        "import cv2"
      ]
    },
    {
      "cell_type": "code",
      "source": [
        "# train_dir = Path('/content/drive/MyDrive/project/buzzni/dataset/data/train')\n",
        "# test_dir = Path('/content/drive/MyDrive/project/buzzni/dataset/data/test')\n",
        "train_dir = Path('./dataset/data/train')\n",
        "test_dir = Path('./dataset/data/test')\n",
        "\n",
        "train_files = list(train_dir.glob('**/*.jpg'))\n",
        "test_files = list(test_dir.glob('**/*.jpg'))\n",
        "files = [*train_files, *test_files]\n",
        "img_shapes = [cv2.imread(file.as_posix()).shape for file in tqdm.tqdm(files)]\n",
        "widths = [x[0] for x in img_shapes]\n",
        "heights = [x[1] for x in img_shapes]\n",
        "resolutions = np.sqrt(np.array(widths) * np.array(heights)).astype(int)\n",
        "\n",
        "table = pd.DataFrame(data=dict(file=files, img_shape = img_shapes))\n",
        "table['split'] = table.file.astype(str).str.split('/').str.get(-3)\n",
        "table['category'] = table.file.astype(str).str.split('/').str.get(-2)\n",
        "table['resolution'] = resolutions\n",
        "# widths, heights = list(zip(*[imagesize.get(file) for file in tqdm.tqdm(files)]))"
      ],
      "metadata": {
        "collapsed": true,
        "id": "JyLXAcjG8DHD"
      },
      "execution_count": null,
      "outputs": []
    },
    {
      "cell_type": "markdown",
      "source": [
        "# find inter-class distribution"
      ],
      "metadata": {
        "id": "vMOOonQAlmNe"
      }
    },
    {
      "cell_type": "code",
      "source": [
        "table.groupby('category')['file'].count().mean()"
      ],
      "metadata": {
        "id": "-9Iq4dUBSp1P"
      },
      "execution_count": null,
      "outputs": []
    },
    {
      "cell_type": "code",
      "source": [
        "(\n",
        "    table\n",
        " .groupby(['category','split'])['file']\n",
        " .count()\n",
        " .reset_index()\n",
        " .pipe(lambda df: df.pivot_table(index='category',columns='split'))\n",
        " .droplevel(axis=1, level=0)\n",
        " .assign(test_ratio = lambda df: df['test'] / df['train'])\n",
        " ['test_ratio']\n",
        " .describe()\n",
        ")"
      ],
      "metadata": {
        "id": "qzbtV3nTmDvf"
      },
      "execution_count": null,
      "outputs": []
    },
    {
      "cell_type": "code",
      "source": [
        "table.groupby(['category'])['resolution'].mean().describe()"
      ],
      "metadata": {
        "id": "_iW98KdNl0rw"
      },
      "execution_count": null,
      "outputs": []
    },
    {
      "cell_type": "code",
      "source": [
        "(\n",
        "table\n",
        " .groupby(['category','split'])['resolution']\n",
        " .mean()\n",
        " .reset_index()\n",
        " .pipe(lambda df: df.pivot_table(index='category',columns='split'))\n",
        " .droplevel(axis=1, level=0)\n",
        " .assign(enlarge_ratio = lambda df: df['test'] / df['train'])\n",
        "#  ['enlarge_ratio'].mean()\n",
        " .sort_values(['enlarge_ratio'])\n",
        ")"
      ],
      "metadata": {
        "id": "e5102MH3n5dr"
      },
      "execution_count": null,
      "outputs": []
    }
  ]
}